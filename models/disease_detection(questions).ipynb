{
 "cells": [
  {
   "cell_type": "code",
   "execution_count": 1,
   "id": "b3143d48",
   "metadata": {},
   "outputs": [],
   "source": [
    "import pandas as pd\n",
    "import numpy as np\n",
    "from sklearn.model_selection import train_test_split\n",
    "from sklearn.preprocessing import LabelEncoder, StandardScaler\n",
    "from sklearn.ensemble import RandomForestClassifier\n",
    "from sklearn.metrics import accuracy_score\n",
    "from imblearn.over_sampling import SMOTE"
   ]
  },
  {
   "cell_type": "code",
   "execution_count": 2,
   "id": "7fefe3ce",
   "metadata": {},
   "outputs": [],
   "source": [
    "# Creating a larger dummy dataset\n",
    "num_samples = 10000  # Increased dataset size\n",
    "data = {\n",
    "    \"Appetite\": np.random.choice([\"Normal\", \"Increased\", \"Decreased\", \"No appetite\"], num_samples),\n",
    "    \"Energy_Level\": np.random.choice([\"Normal\", \"Hyperactive\"], num_samples),\n",
    "    \"Water_Intake\": np.random.choice([\"Normal amount\", \"Drinking more than usual\", \"Drinking less than usual\"], num_samples),\n",
    "    \"Vomiting\": np.random.choice([\"No\", \"Occasionally\", \"Frequently\"], num_samples),\n",
    "    \"Diarrhea\": np.random.choice([\"No\", \"Mild\", \"Severe\"], num_samples),\n",
    "    \"Coughing\": np.random.choice([\"No\", \"Occasionally\", \"Frequently\", \"Lethargic\"], num_samples),\n",
    "    \"Breathing\": np.random.choice([\"Normal\", \"Rapid\", \"Labored\"], num_samples),\n",
    "    \"Skin_Coat_Changes\": np.random.choice([\"No changes\", \"Dry/flaky skin\", \"Rash or redness\", \"Hair loss\"], num_samples),\n",
    "    \"Urinating\": np.random.choice([\"No changes\", \"Increased frequency\", \"Decreased frequency\", \"Blood in urine\"], num_samples),\n",
    "    \"Behavior_Changes\": np.random.choice([\"No changes\", \"More aggressive\", \"More withdrawn\", \"Confused or disoriented\"], num_samples),\n",
    "    \"Body_Temperature\": np.random.uniform(35.0, 42.0, num_samples),  # Temperature between 35 and 42 degrees\n",
    "    \"Disease\": np.random.choice([\"Healthy\", \"Diabetes\", \"Kidney Disease\", \"Infection\", \"Gastroenteritis\", \"Heart Disease\"], num_samples)\n",
    "}\n",
    "\n",
    "df = pd.DataFrame(data)"
   ]
  },
  {
   "cell_type": "code",
   "execution_count": 3,
   "id": "1ce6976f",
   "metadata": {},
   "outputs": [
    {
     "name": "stdout",
     "output_type": "stream",
     "text": [
      "Random Forest Model Accuracy: 0.22\n"
     ]
    }
   ],
   "source": [
    "# Encoding categorical variables\n",
    "label_encoders = {}\n",
    "for column in df.columns[:-2]:  # Exclude target variable and numerical temperature\n",
    "    le = LabelEncoder()\n",
    "    df[column] = le.fit_transform(df[column])\n",
    "    label_encoders[column] = le\n",
    "\n",
    "# Scaling Body Temperature\n",
    "scaler = StandardScaler()\n",
    "df[\"Body_Temperature\"] = scaler.fit_transform(df[[\"Body_Temperature\"]])\n",
    "\n",
    "# Splitting dataset\n",
    "X = df.drop(columns=[\"Disease\"])\n",
    "y = df[\"Disease\"]\n",
    "\n",
    "# Handling class imbalance with SMOTE\n",
    "smote = SMOTE(random_state=42)\n",
    "X_resampled, y_resampled = smote.fit_resample(X, y)\n",
    "\n",
    "X_train, X_test, y_train, y_test = train_test_split(X_resampled, y_resampled, test_size=0.2, random_state=42)\n",
    "\n",
    "# Training Random Forest Model\n",
    "rf = RandomForestClassifier(n_estimators=300, max_depth=15, random_state=42)\n",
    "rf.fit(X_train, y_train)\n",
    "\n",
    "# Evaluating the model\n",
    "y_pred = rf.predict(X_test)\n",
    "accuracy = accuracy_score(y_test, y_pred)\n",
    "print(f\"Random Forest Model Accuracy: {accuracy:.2f}\")"
   ]
  },
  {
   "cell_type": "code",
   "execution_count": 5,
   "id": "a8e3f42a",
   "metadata": {},
   "outputs": [
    {
     "name": "stdout",
     "output_type": "stream",
     "text": [
      "Answer the following questions about your pet:\n",
      "Appetite: ['Normal', 'Increased', 'Decreased', 'No appetite']\n",
      "Enter your choice: Normal\n",
      "Energy_Level: ['Normal', 'Hyperactive']\n",
      "Enter your choice: Hyperactive\n",
      "Water_Intake: ['Normal amount', 'Drinking more than usual', 'Drinking less than usual']\n",
      "Enter your choice: Normal amount\n",
      "Vomiting: ['No', 'Occasionally', 'Frequently']\n",
      "Enter your choice: Occasionally\n",
      "Diarrhea: ['No', 'Mild', 'Severe']\n",
      "Enter your choice: Mild\n",
      "Coughing: ['No', 'Occasionally', 'Frequently', 'Lethargic']\n",
      "Enter your choice: No\n",
      "Breathing: ['Normal', 'Rapid', 'Labored']\n",
      "Enter your choice: Rapid\n",
      "Skin_Coat_Changes: ['No changes', 'Dry/flaky skin', 'Rash or redness', 'Hair loss']\n",
      "Enter your choice: No changes\n",
      "Urinating: ['No changes', 'Increased frequency', 'Decreased frequency', 'Blood in urine']\n",
      "Enter your choice: No changes\n",
      "Behavior_Changes: ['No changes', 'More aggressive', 'More withdrawn', 'Confused or disoriented']\n",
      "Enter your choice: More aggressive\n",
      "Enter your pet's body temperature (35.0 - 42.0): 36\n",
      "Predicted Disease: Healthy\n"
     ]
    },
    {
     "name": "stderr",
     "output_type": "stream",
     "text": [
      "E:\\Users\\Wrishita Paul\\anaconda3\\lib\\site-packages\\sklearn\\base.py:450: UserWarning: X does not have valid feature names, but StandardScaler was fitted with feature names\n",
      "  warnings.warn(\n"
     ]
    }
   ],
   "source": [
    "# User input for diagnosis\n",
    "print(\"Answer the following questions about your pet:\")\n",
    "user_input = {}\n",
    "questions = {\n",
    "    \"Appetite\": [\"Normal\", \"Increased\", \"Decreased\", \"No appetite\"],\n",
    "    \"Energy_Level\": [\"Normal\", \"Hyperactive\"],\n",
    "    \"Water_Intake\": [\"Normal amount\", \"Drinking more than usual\", \"Drinking less than usual\"],\n",
    "    \"Vomiting\": [\"No\", \"Occasionally\", \"Frequently\"],\n",
    "    \"Diarrhea\": [\"No\", \"Mild\", \"Severe\"],\n",
    "    \"Coughing\": [\"No\", \"Occasionally\", \"Frequently\", \"Lethargic\"],\n",
    "    \"Breathing\": [\"Normal\", \"Rapid\", \"Labored\"],\n",
    "    \"Skin_Coat_Changes\": [\"No changes\", \"Dry/flaky skin\", \"Rash or redness\", \"Hair loss\"],\n",
    "    \"Urinating\": [\"No changes\", \"Increased frequency\", \"Decreased frequency\", \"Blood in urine\"],\n",
    "    \"Behavior_Changes\": [\"No changes\", \"More aggressive\", \"More withdrawn\", \"Confused or disoriented\"]\n",
    "}\n",
    "\n",
    "for key, options in questions.items():\n",
    "    print(f\"{key}: {options}\")\n",
    "    choice = input(\"Enter your choice: \")\n",
    "    \n",
    "    if key in label_encoders:\n",
    "        choice = label_encoders[key].transform([choice])[0]\n",
    "    \n",
    "    user_input[key] = choice\n",
    "\n",
    "# Asking for body temperature\n",
    "while True:\n",
    "    try:\n",
    "        temp = float(input(\"Enter your pet's body temperature (35.0 - 42.0): \"))\n",
    "        if 35.0 <= temp <= 42.0:\n",
    "            user_input[\"Body_Temperature\"] = scaler.transform([[temp]])[0][0]\n",
    "            break\n",
    "        else:\n",
    "            print(\"Please enter a valid temperature between 35.0 and 42.0.\")\n",
    "    except ValueError:\n",
    "        print(\"Invalid input. Please enter a numerical value.\")\n",
    "\n",
    "# Convert user input into a DataFrame\n",
    "user_df = pd.DataFrame([user_input], columns=X_train.columns)\n",
    "\n",
    "\n",
    "# Predict disease\n",
    "prediction = rf.predict(user_df)\n",
    "print(f\"Predicted Disease: {prediction[0]}\")"
   ]
  }
 ],
 "metadata": {
  "kernelspec": {
   "display_name": "Python 3 (ipykernel)",
   "language": "python",
   "name": "python3"
  },
  "language_info": {
   "codemirror_mode": {
    "name": "ipython",
    "version": 3
   },
   "file_extension": ".py",
   "mimetype": "text/x-python",
   "name": "python",
   "nbconvert_exporter": "python",
   "pygments_lexer": "ipython3",
   "version": "3.9.13"
  }
 },
 "nbformat": 4,
 "nbformat_minor": 5
}
